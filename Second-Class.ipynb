{
 "cells": [
  {
   "cell_type": "markdown",
   "id": "1b5ca544-adf5-4b26-a9a7-889fb5316af8",
   "metadata": {},
   "source": [
    "# Checking variable type"
   ]
  },
  {
   "cell_type": "code",
   "execution_count": 8,
   "id": "7ef04da8-cb90-4466-a68e-dbc649bd66e3",
   "metadata": {},
   "outputs": [],
   "source": [
    "            a_var = 23"
   ]
  },
  {
   "cell_type": "code",
   "execution_count": 9,
   "id": "8fab12d3-5fcb-4581-a200-c8ca0d27de4b",
   "metadata": {},
   "outputs": [
    {
     "data": {
      "text/plain": [
       "23"
      ]
     },
     "execution_count": 9,
     "metadata": {},
     "output_type": "execute_result"
    }
   ],
   "source": [
    "a_var"
   ]
  },
  {
   "cell_type": "code",
   "execution_count": 10,
   "id": "4b119260-08f0-4fdb-8585-42a673ae4490",
   "metadata": {},
   "outputs": [
    {
     "data": {
      "text/plain": [
       "int"
      ]
     },
     "execution_count": 10,
     "metadata": {},
     "output_type": "execute_result"
    }
   ],
   "source": [
    "type(a_var)"
   ]
  },
  {
   "cell_type": "code",
   "execution_count": 4,
   "id": "ca490f29-3dc5-4265-a062-8d53e06cbf35",
   "metadata": {},
   "outputs": [],
   "source": [
    "is_today_saturday = False"
   ]
  },
  {
   "cell_type": "code",
   "execution_count": 5,
   "id": "2c58f125-ab37-488c-a00b-19fe0b54c134",
   "metadata": {},
   "outputs": [
    {
     "data": {
      "text/plain": [
       "False"
      ]
     },
     "execution_count": 5,
     "metadata": {},
     "output_type": "execute_result"
    }
   ],
   "source": [
    "is_today_saturday"
   ]
  },
  {
   "cell_type": "code",
   "execution_count": 6,
   "id": "8fb3df51-918e-40e8-856c-43eb14d129ad",
   "metadata": {},
   "outputs": [
    {
     "data": {
      "text/plain": [
       "bool"
      ]
     },
     "execution_count": 6,
     "metadata": {},
     "output_type": "execute_result"
    }
   ],
   "source": [
    "type(is_today_saturday)"
   ]
  },
  {
   "cell_type": "code",
   "execution_count": 7,
   "id": "a0ee6e42-977a-4d08-8827-9ab077f298cb",
   "metadata": {},
   "outputs": [],
   "source": [
    "a_name = 'John'"
   ]
  },
  {
   "cell_type": "code",
   "execution_count": 8,
   "id": "92cf673a-5e21-4177-80fb-75d24040a1d0",
   "metadata": {},
   "outputs": [
    {
     "data": {
      "text/plain": [
       "'John'"
      ]
     },
     "execution_count": 8,
     "metadata": {},
     "output_type": "execute_result"
    }
   ],
   "source": [
    "a_name"
   ]
  },
  {
   "cell_type": "code",
   "execution_count": 9,
   "id": "67ba1746-46a9-450f-8d5c-cb32a9d8f22c",
   "metadata": {},
   "outputs": [
    {
     "data": {
      "text/plain": [
       "str"
      ]
     },
     "execution_count": 9,
     "metadata": {},
     "output_type": "execute_result"
    }
   ],
   "source": [
    "type(a_name)"
   ]
  },
  {
   "cell_type": "code",
   "execution_count": 10,
   "id": "457d0186-47ad-4998-a886-fdc8bce2e58b",
   "metadata": {},
   "outputs": [],
   "source": [
    "the_3_musketeers = ['Athos', 'Porthos', 'Aramis']"
   ]
  },
  {
   "cell_type": "code",
   "execution_count": 11,
   "id": "71e55107-f5f7-4d29-b36f-03d1112b6958",
   "metadata": {},
   "outputs": [
    {
     "data": {
      "text/plain": [
       "['Athos', 'Porthos', 'Aramis']"
      ]
     },
     "execution_count": 11,
     "metadata": {},
     "output_type": "execute_result"
    }
   ],
   "source": [
    "the_3_musketeers"
   ]
  },
  {
   "cell_type": "code",
   "execution_count": 12,
   "id": "1b2960ba-0d35-444c-b5f0-f12f50abdc82",
   "metadata": {},
   "outputs": [
    {
     "data": {
      "text/plain": [
       "list"
      ]
     },
     "execution_count": 12,
     "metadata": {},
     "output_type": "execute_result"
    }
   ],
   "source": [
    "type(the_3_musketeers)"
   ]
  },
  {
   "cell_type": "markdown",
   "id": "a9fa80a6-b058-49bf-99e4-a86fdc8e75f7",
   "metadata": {},
   "source": [
    "# Converting floats and ints"
   ]
  },
  {
   "cell_type": "code",
   "execution_count": 11,
   "id": "ccbf632e-b696-40ef-8164-cf88c8366bc1",
   "metadata": {},
   "outputs": [],
   "source": [
    "current_year = 2020"
   ]
  },
  {
   "cell_type": "code",
   "execution_count": 12,
   "id": "c26eca87-f0da-4a04-96d2-b9e35bc417f8",
   "metadata": {},
   "outputs": [],
   "source": [
    "pi = 3.14"
   ]
  },
  {
   "cell_type": "code",
   "execution_count": 13,
   "id": "88a2cba1-c8aa-47bc-bc75-2d2a725bf9bd",
   "metadata": {},
   "outputs": [
    {
     "data": {
      "text/plain": [
       "2020.0"
      ]
     },
     "execution_count": 13,
     "metadata": {},
     "output_type": "execute_result"
    }
   ],
   "source": [
    "float(current_year)"
   ]
  },
  {
   "cell_type": "code",
   "execution_count": 14,
   "id": "08d3e73f-1d07-4c31-93f9-eb20b061e921",
   "metadata": {},
   "outputs": [
    {
     "data": {
      "text/plain": [
       "3"
      ]
     },
     "execution_count": 14,
     "metadata": {},
     "output_type": "execute_result"
    }
   ],
   "source": [
    "int(pi)"
   ]
  },
  {
   "cell_type": "code",
   "execution_count": 15,
   "id": "1bbb17a7-8b89-489b-8242-a2cb4a71bc7b",
   "metadata": {},
   "outputs": [],
   "source": [
    "a_large_negative_number = -28983498398408923892938298492389849384"
   ]
  },
  {
   "cell_type": "code",
   "execution_count": 16,
   "id": "132ae62c-6566-4515-b6fb-594ebc6e8b11",
   "metadata": {},
   "outputs": [
    {
     "data": {
      "text/plain": [
       "int"
      ]
     },
     "execution_count": 16,
     "metadata": {},
     "output_type": "execute_result"
    }
   ],
   "source": [
    "type(a_large_negative_number)"
   ]
  },
  {
   "cell_type": "code",
   "execution_count": 17,
   "id": "00f07e51-ba60-4f75-b619-aba22b806fcf",
   "metadata": {},
   "outputs": [
    {
     "data": {
      "text/plain": [
       "-2.8983498398408923e+37"
      ]
     },
     "execution_count": 17,
     "metadata": {},
     "output_type": "execute_result"
    }
   ],
   "source": [
    "float(a_large_negative_number)"
   ]
  },
  {
   "cell_type": "code",
   "execution_count": 18,
   "id": "8f8111e7-a2c8-4ffc-a198-555c6441f169",
   "metadata": {},
   "outputs": [
    {
     "data": {
      "text/plain": [
       "float"
      ]
     },
     "execution_count": 18,
     "metadata": {},
     "output_type": "execute_result"
    }
   ],
   "source": [
    "type(50 * 2.0)"
   ]
  },
  {
   "cell_type": "markdown",
   "id": "6a108727-9d83-4e63-9142-c2dcc304ef6e",
   "metadata": {},
   "source": [
    "type(50 * 2)"
   ]
  },
  {
   "cell_type": "code",
   "execution_count": 20,
   "id": "ac6d2614-3d33-4c68-a7a7-8626f080baae",
   "metadata": {},
   "outputs": [
    {
     "data": {
      "text/plain": [
       "float"
      ]
     },
     "execution_count": 20,
     "metadata": {},
     "output_type": "execute_result"
    }
   ],
   "source": [
    "type (10/2)"
   ]
  },
  {
   "cell_type": "code",
   "execution_count": 23,
   "id": "626848a7-39c0-435a-b1e9-efd0cc44137e",
   "metadata": {},
   "outputs": [
    {
     "data": {
      "text/plain": [
       "float"
      ]
     },
     "execution_count": 23,
     "metadata": {},
     "output_type": "execute_result"
    }
   ],
   "source": [
    "type(10/3)"
   ]
  },
  {
   "cell_type": "code",
   "execution_count": 27,
   "id": "af8bc13c-fa40-4573-98c0-85c61c0a3ef8",
   "metadata": {},
   "outputs": [
    {
     "data": {
      "text/plain": [
       "int"
      ]
     },
     "execution_count": 27,
     "metadata": {},
     "output_type": "execute_result"
    }
   ],
   "source": [
    "type(10//3)"
   ]
  },
  {
   "cell_type": "markdown",
   "id": "b556d482-31aa-4de1-876a-b33645b5af7e",
   "metadata": {},
   "source": [
    "#### Booleans are automatically converted to int when used in arithmetic operations. True is converted to 1 and False to 0"
   ]
  },
  {
   "cell_type": "code",
   "execution_count": 31,
   "id": "0299683b-ad38-42b8-8c25-d719398e487b",
   "metadata": {},
   "outputs": [
    {
     "data": {
      "text/plain": [
       "5"
      ]
     },
     "execution_count": 31,
     "metadata": {},
     "output_type": "execute_result"
    }
   ],
   "source": [
    "4 + True"
   ]
  },
  {
   "cell_type": "code",
   "execution_count": 32,
   "id": "83f6574a-4885-4730-add1-f5966bf86a59",
   "metadata": {},
   "outputs": [
    {
     "data": {
      "text/plain": [
       "4"
      ]
     },
     "execution_count": 32,
     "metadata": {},
     "output_type": "execute_result"
    }
   ],
   "source": [
    "4 + False"
   ]
  },
  {
   "cell_type": "markdown",
   "id": "dac94481-992d-4f49-8f9a-0d023d2d88ca",
   "metadata": {},
   "source": [
    "#### Any value in Python can be converted to a Boolean using the bool function"
   ]
  },
  {
   "cell_type": "markdown",
   "id": "f4c6af91-4922-48b6-b967-f45f21108544",
   "metadata": {},
   "source": [
    "###### Only the values equals to 0, 0.0, None, \"\", or empty lists, tuples, dictionaries, sets, ranges will be considered False"
   ]
  },
  {
   "cell_type": "code",
   "execution_count": 33,
   "id": "a512dc17-b22d-4d49-a9f4-c00419b7583e",
   "metadata": {},
   "outputs": [
    {
     "data": {
      "text/plain": [
       "False"
      ]
     },
     "execution_count": 33,
     "metadata": {},
     "output_type": "execute_result"
    }
   ],
   "source": [
    "bool(False) "
   ]
  },
  {
   "cell_type": "code",
   "execution_count": 34,
   "id": "fdf2878c-ccdd-448f-b499-5b9337afa610",
   "metadata": {},
   "outputs": [
    {
     "data": {
      "text/plain": [
       "False"
      ]
     },
     "execution_count": 34,
     "metadata": {},
     "output_type": "execute_result"
    }
   ],
   "source": [
    "bool(0)"
   ]
  },
  {
   "cell_type": "code",
   "execution_count": 38,
   "id": "0e6255e5-aaa4-4db5-ba25-66e512c8cd25",
   "metadata": {},
   "outputs": [
    {
     "data": {
      "text/plain": [
       "False"
      ]
     },
     "execution_count": 38,
     "metadata": {},
     "output_type": "execute_result"
    }
   ],
   "source": [
    "bool([])"
   ]
  },
  {
   "cell_type": "code",
   "execution_count": 39,
   "id": "c1a12379-141d-4e4e-866e-4bb9741b888b",
   "metadata": {},
   "outputs": [
    {
     "data": {
      "text/plain": [
       "True"
      ]
     },
     "execution_count": 39,
     "metadata": {},
     "output_type": "execute_result"
    }
   ],
   "source": [
    "bool([1,2,3,4,5])"
   ]
  },
  {
   "cell_type": "code",
   "execution_count": 35,
   "id": "2aeec4dc-9155-4513-a114-7d9df731e3cd",
   "metadata": {},
   "outputs": [
    {
     "data": {
      "text/plain": [
       "True"
      ]
     },
     "execution_count": 35,
     "metadata": {},
     "output_type": "execute_result"
    }
   ],
   "source": [
    "bool(1)"
   ]
  },
  {
   "cell_type": "code",
   "execution_count": 37,
   "id": "98836f3a-8b30-4202-8f61-bea219c11d1e",
   "metadata": {},
   "outputs": [
    {
     "data": {
      "text/plain": [
       "True"
      ]
     },
     "execution_count": 37,
     "metadata": {},
     "output_type": "execute_result"
    }
   ],
   "source": [
    "bool('oi')"
   ]
  },
  {
   "cell_type": "markdown",
   "id": "a89c6a9e-13c2-44ac-997a-a4b90bdb95d6",
   "metadata": {},
   "source": [
    "#### None value is used to indicate the absence of a value."
   ]
  },
  {
   "cell_type": "code",
   "execution_count": 41,
   "id": "cb4ee2c5-9175-440a-8463-17e61e5469f1",
   "metadata": {},
   "outputs": [],
   "source": [
    "nothing = None"
   ]
  },
  {
   "cell_type": "code",
   "execution_count": 42,
   "id": "3812b927-213b-41c3-b710-635ca13f6761",
   "metadata": {},
   "outputs": [
    {
     "data": {
      "text/plain": [
       "NoneType"
      ]
     },
     "execution_count": 42,
     "metadata": {},
     "output_type": "execute_result"
    }
   ],
   "source": [
    "type(nothing)"
   ]
  },
  {
   "cell_type": "markdown",
   "id": "0d4152b0-e07b-4f1b-a99b-4b6849ddd78b",
   "metadata": {},
   "source": [
    "## String"
   ]
  },
  {
   "cell_type": "markdown",
   "id": "e0725b68-274a-46cd-b838-5e79140daa75",
   "metadata": {},
   "source": [
    "#### There are some examples below on how to deal with 'string' using Python"
   ]
  },
  {
   "cell_type": "code",
   "execution_count": 4,
   "id": "5f495835-d174-4117-b999-e3a2cba2d1cc",
   "metadata": {},
   "outputs": [
    {
     "data": {
      "text/plain": [
       "'a\\nb'"
      ]
     },
     "execution_count": 4,
     "metadata": {},
     "output_type": "execute_result"
    }
   ],
   "source": [
    "multiline_string = \"\"\"a\n",
    "b\"\"\"\n",
    "multiline_string"
   ]
  },
  {
   "cell_type": "code",
   "execution_count": 6,
   "id": "bbdd6363-efc4-4e38-b0d9-57eda7c89218",
   "metadata": {},
   "outputs": [
    {
     "data": {
      "text/plain": [
       "3"
      ]
     },
     "execution_count": 6,
     "metadata": {},
     "output_type": "execute_result"
    }
   ],
   "source": [
    "len(multiline_string) #Python stores the 'Enter' as a character"
   ]
  },
  {
   "cell_type": "code",
   "execution_count": 7,
   "id": "448fe2b3-1857-40c0-bda3-3a4981f6ca41",
   "metadata": {},
   "outputs": [
    {
     "data": {
      "text/plain": [
       "['a', '\\n', 'b']"
      ]
     },
     "execution_count": 7,
     "metadata": {},
     "output_type": "execute_result"
    }
   ],
   "source": [
    "list(multiline_string) #It is possible to convert a string into a list using the method list()"
   ]
  },
  {
   "cell_type": "code",
   "execution_count": 8,
   "id": "f5cb2ffb-c98b-4526-a17a-08251f92b7ce",
   "metadata": {},
   "outputs": [],
   "source": [
    "today = 'Tuesday'"
   ]
  },
  {
   "cell_type": "code",
   "execution_count": 9,
   "id": "35180a2d-1d6c-4d32-ac87-e17f9e22dabb",
   "metadata": {},
   "outputs": [
    {
     "data": {
      "text/plain": [
       "'T'"
      ]
     },
     "execution_count": 9,
     "metadata": {},
     "output_type": "execute_result"
    }
   ],
   "source": [
    "today[0]"
   ]
  },
  {
   "cell_type": "code",
   "execution_count": 10,
   "id": "c901d6a3-e4df-4b67-878e-6a9a70f54bcb",
   "metadata": {},
   "outputs": [
    {
     "data": {
      "text/plain": [
       "'s'"
      ]
     },
     "execution_count": 10,
     "metadata": {},
     "output_type": "execute_result"
    }
   ],
   "source": [
    "today[3]"
   ]
  },
  {
   "cell_type": "code",
   "execution_count": 11,
   "id": "b7821520-aa0d-497a-aeb6-737d6ddfc211",
   "metadata": {},
   "outputs": [
    {
     "data": {
      "text/plain": [
       "'a'"
      ]
     },
     "execution_count": 11,
     "metadata": {},
     "output_type": "execute_result"
    }
   ],
   "source": [
    "today[5]"
   ]
  },
  {
   "cell_type": "code",
   "execution_count": 12,
   "id": "eb04f776-46a5-4a3a-9d9b-ee5ed20a27ee",
   "metadata": {},
   "outputs": [
    {
     "data": {
      "text/plain": [
       "'Tues'"
      ]
     },
     "execution_count": 12,
     "metadata": {},
     "output_type": "execute_result"
    }
   ],
   "source": [
    "today[0:4]"
   ]
  },
  {
   "cell_type": "code",
   "execution_count": 14,
   "id": "1379ff3d-3f96-47ec-b633-051f6a4133cc",
   "metadata": {},
   "outputs": [
    {
     "data": {
      "text/plain": [
       "True"
      ]
     },
     "execution_count": 14,
     "metadata": {},
     "output_type": "execute_result"
    }
   ],
   "source": [
    "'day' in today"
   ]
  },
  {
   "cell_type": "code",
   "execution_count": 15,
   "id": "2ccd37e1-556e-468e-8728-1f506d5d0c8d",
   "metadata": {},
   "outputs": [
    {
     "data": {
      "text/plain": [
       "False"
      ]
     },
     "execution_count": 15,
     "metadata": {},
     "output_type": "execute_result"
    }
   ],
   "source": [
    "'smile' in today"
   ]
  },
  {
   "cell_type": "code",
   "execution_count": 16,
   "id": "3b42e133-b549-4bb2-9e7c-db79caa1bdd9",
   "metadata": {},
   "outputs": [],
   "source": [
    "full_name = 'John Smith'"
   ]
  },
  {
   "cell_type": "code",
   "execution_count": 17,
   "id": "143939f2-db2d-4aa8-9b97-79c90840f7e9",
   "metadata": {},
   "outputs": [],
   "source": [
    "greeting = 'Hello'"
   ]
  },
  {
   "cell_type": "code",
   "execution_count": 21,
   "id": "322e365a-8468-4df7-b971-6a4a4de05dc2",
   "metadata": {},
   "outputs": [
    {
     "data": {
      "text/plain": [
       "'Hello John Smith!'"
      ]
     },
     "execution_count": 21,
     "metadata": {},
     "output_type": "execute_result"
    }
   ],
   "source": [
    "greeting + \" \" + full_name + \"!\" #Tip: Always remember the additional space between string variables"
   ]
  },
  {
   "cell_type": "code",
   "execution_count": 22,
   "id": "4d94422f-d424-4034-8fb2-a917c0f0e7d0",
   "metadata": {},
   "outputs": [
    {
     "data": {
      "text/plain": [
       "'tuesday'"
      ]
     },
     "execution_count": 22,
     "metadata": {},
     "output_type": "execute_result"
    }
   ],
   "source": [
    "today.lower()"
   ]
  },
  {
   "cell_type": "code",
   "execution_count": 23,
   "id": "635bc7b8-8c95-4a3d-a00e-db8b6eedbb34",
   "metadata": {},
   "outputs": [
    {
     "data": {
      "text/plain": [
       "'TUESDAY'"
      ]
     },
     "execution_count": 23,
     "metadata": {},
     "output_type": "execute_result"
    }
   ],
   "source": [
    "\"tuesday\".upper()"
   ]
  },
  {
   "cell_type": "code",
   "execution_count": 25,
   "id": "2d4438e3-4510-4172-9851-79778423406f",
   "metadata": {},
   "outputs": [
    {
     "data": {
      "text/plain": [
       "'Wednesday'"
      ]
     },
     "execution_count": 25,
     "metadata": {},
     "output_type": "execute_result"
    }
   ],
   "source": [
    "\"Wednesday\".capitalize() #change first character to uppercase"
   ]
  },
  {
   "cell_type": "code",
   "execution_count": 26,
   "id": "cb449f4f-b98d-488f-a0fb-849cf391d216",
   "metadata": {},
   "outputs": [
    {
     "data": {
      "text/plain": [
       "['Sun', 'Mon', 'Tue', 'Wed', 'Thu', 'Fri', 'Sat']"
      ]
     },
     "execution_count": 26,
     "metadata": {},
     "output_type": "execute_result"
    }
   ],
   "source": [
    "\"Sun,Mon,Tue,Wed,Thu,Fri,Sat\".split(\",\") #split() method will split the string into a list"
   ]
  },
  {
   "cell_type": "code",
   "execution_count": 27,
   "id": "ed45e024-9c35-4be6-ae91-3cb1c37fc301",
   "metadata": {},
   "outputs": [],
   "source": [
    "a_long_line = '           This is an example           '"
   ]
  },
  {
   "cell_type": "code",
   "execution_count": 30,
   "id": "b5f418f9-e6ba-4d41-a911-d27d93b6eedd",
   "metadata": {},
   "outputs": [],
   "source": [
    "a_long_line_stripped = a_long_line.strip() #the strip() method removes whitespace characters from the beginning and end of a string"
   ]
  },
  {
   "cell_type": "code",
   "execution_count": 31,
   "id": "7304f575-578f-485d-9abc-a858b436b6d6",
   "metadata": {},
   "outputs": [
    {
     "data": {
      "text/plain": [
       "'This is an example'"
      ]
     },
     "execution_count": 31,
     "metadata": {},
     "output_type": "execute_result"
    }
   ],
   "source": [
    "a_long_line_stripped"
   ]
  },
  {
   "cell_type": "code",
   "execution_count": 35,
   "id": "24ab013e-7d18-4ad8-a550-c1b31054defd",
   "metadata": {},
   "outputs": [
    {
     "name": "stdout",
     "output_type": "stream",
     "text": [
      "If a grocery store sells ice bags at $ {} per bag, with a profit margin of {} %, then the total profit it makes by\n",
      "selling {} ice bags is $ {}.\n"
     ]
    }
   ],
   "source": [
    "cost_of_ice_bag = 1.25\n",
    "profit_margin = .2\n",
    "number_of_bags = 500\n",
    "\n",
    "output_template = \"\"\"If a grocery store sells ice bags at $ {} per bag, with a profit margin of {} %, then the total profit it makes by\n",
    "selling {} ice bags is $ {}.\"\"\"\n",
    "\n",
    "print(output_template)"
   ]
  },
  {
   "cell_type": "code",
   "execution_count": 38,
   "id": "e7428971-f280-4f4e-81de-a148f4e8bf40",
   "metadata": {},
   "outputs": [
    {
     "name": "stdout",
     "output_type": "stream",
     "text": [
      "If a grocery store sells ice bags at $ 1.25 per bag, with a profit margin of 20.0 %, then the total profit it makes by\n",
      "selling 500 ice bags is $ 125.0.\n"
     ]
    }
   ],
   "source": [
    "#Inserting values into the string\n",
    "total_profit = cost_of_ice_bag * profit_margin * number_of_bags\n",
    "output_message = output_template.format(cost_of_ice_bag, profit_margin * 100, number_of_bags, total_profit)\n",
    "print(output_message)"
   ]
  },
  {
   "cell_type": "markdown",
   "id": "3ef2ba42-c337-4f38-8334-b22c51649c9d",
   "metadata": {},
   "source": [
    "##### the placeholders {} are replaced with arguments provided by the format() method"
   ]
  },
  {
   "cell_type": "code",
   "execution_count": 42,
   "id": "2c50064e-91a4-4a1d-93c1-c170935d5cb9",
   "metadata": {},
   "outputs": [
    {
     "name": "stdout",
     "output_type": "stream",
     "text": [
      "If a grocery store sells ice bags at $ 1.25 per bag, with a profit margin \n",
      "of 20.0 %, then the total profit it makes by selling 500 ice bags is $125.0.\n"
     ]
    }
   ],
   "source": [
    "#It is also possible to concatenate the values. However you will need to use the str() function\n",
    "\n",
    "output_message = \"If a grocery store sells ice bags at $ \" + str(cost_of_ice_bag) + \" per bag, with a profit margin \\nof \" + str(profit_margin * 100) + \" %, then the total profit it makes by selling \" + str(number_of_bags) + \" ice bags is $\" + str(total_profit)  + \".\"\n",
    "print(output_message)"
   ]
  },
  {
   "cell_type": "code",
   "execution_count": 17,
   "id": "cdf6b97a-babe-44cf-8859-f97719b8e15d",
   "metadata": {},
   "outputs": [],
   "source": [
    "fruits = ['apple', 'banana', 'cherry']\n",
    "a_list = [23, 'hello', None, fruits, 3<=5]"
   ]
  },
  {
   "cell_type": "code",
   "execution_count": null,
   "id": "23aa03e8-13d6-4022-82fe-0f29365a5bfe",
   "metadata": {},
   "outputs": [],
   "source": [
    "a_list"
   ]
  },
  {
   "cell_type": "code",
   "execution_count": null,
   "id": "9e27762d-cd08-48c7-8469-53cc9f058ea0",
   "metadata": {},
   "outputs": [],
   "source": [
    "a_list[2:5]"
   ]
  },
  {
   "cell_type": "code",
   "execution_count": 6,
   "id": "537509ae-4d1e-4ba4-9cd7-f85f7d6fdfd9",
   "metadata": {},
   "outputs": [
    {
     "data": {
      "text/plain": [
       "'cherry'"
      ]
     },
     "execution_count": 6,
     "metadata": {},
     "output_type": "execute_result"
    }
   ],
   "source": [
    "a_list[3][2]"
   ]
  },
  {
   "cell_type": "code",
   "execution_count": 18,
   "id": "c8c0946b-b466-4354-bde6-732e7796406e",
   "metadata": {},
   "outputs": [],
   "source": [
    "fruits[1] = 'blueberry' #changing a value of a list using its index; last value is removed"
   ]
  },
  {
   "cell_type": "code",
   "execution_count": 19,
   "id": "bb70f16d-b6c9-42ee-a8f0-a3e4676ff55d",
   "metadata": {},
   "outputs": [
    {
     "data": {
      "text/plain": [
       "['apple', 'blueberry', 'cherry']"
      ]
     },
     "execution_count": 19,
     "metadata": {},
     "output_type": "execute_result"
    }
   ],
   "source": [
    "fruits"
   ]
  },
  {
   "cell_type": "code",
   "execution_count": 20,
   "id": "c2139baa-42ec-4ed3-b661-c82bc109b0b6",
   "metadata": {},
   "outputs": [],
   "source": [
    "fruits.append('dates') #appending a value into a list"
   ]
  },
  {
   "cell_type": "code",
   "execution_count": 21,
   "id": "8b9e493f-346b-41e6-9eff-1efa0b710b6c",
   "metadata": {},
   "outputs": [
    {
     "data": {
      "text/plain": [
       "['apple', 'blueberry', 'cherry', 'dates']"
      ]
     },
     "execution_count": 21,
     "metadata": {},
     "output_type": "execute_result"
    }
   ],
   "source": [
    "fruits"
   ]
  },
  {
   "cell_type": "code",
   "execution_count": 22,
   "id": "4ffe97e5-59a1-4ac0-922e-112eedf11ca7",
   "metadata": {},
   "outputs": [],
   "source": [
    "fruits.insert(1, 'banana') #inserting a value into a list; last value is preserved"
   ]
  },
  {
   "cell_type": "code",
   "execution_count": 23,
   "id": "35aa47d0-a28c-44ff-bb2e-6c78779be119",
   "metadata": {},
   "outputs": [
    {
     "data": {
      "text/plain": [
       "['apple', 'banana', 'blueberry', 'cherry', 'dates']"
      ]
     },
     "execution_count": 23,
     "metadata": {},
     "output_type": "execute_result"
    }
   ],
   "source": [
    "fruits"
   ]
  },
  {
   "cell_type": "code",
   "execution_count": 24,
   "id": "6891b6b6-a0e1-4468-86ea-e7882464a3a0",
   "metadata": {},
   "outputs": [],
   "source": [
    "fruits.remove('blueberry') #removing a item from a list based on its value"
   ]
  },
  {
   "cell_type": "code",
   "execution_count": 25,
   "id": "371fde5a-27a3-4981-990b-8c75d4751ef5",
   "metadata": {},
   "outputs": [
    {
     "data": {
      "text/plain": [
       "['apple', 'banana', 'cherry', 'dates']"
      ]
     },
     "execution_count": 25,
     "metadata": {},
     "output_type": "execute_result"
    }
   ],
   "source": [
    "fruits"
   ]
  },
  {
   "cell_type": "code",
   "execution_count": 26,
   "id": "a02c10f5-20bd-4c53-82a9-b4e7bab0601f",
   "metadata": {},
   "outputs": [
    {
     "data": {
      "text/plain": [
       "'banana'"
      ]
     },
     "execution_count": 26,
     "metadata": {},
     "output_type": "execute_result"
    }
   ],
   "source": [
    "fruits.pop(1) #removing a item from a list based on its index"
   ]
  },
  {
   "cell_type": "code",
   "execution_count": 27,
   "id": "9bc82f65-eca5-4c46-90a9-6915907d2bf8",
   "metadata": {},
   "outputs": [
    {
     "data": {
      "text/plain": [
       "['apple', 'cherry', 'dates']"
      ]
     },
     "execution_count": 27,
     "metadata": {},
     "output_type": "execute_result"
    }
   ],
   "source": [
    "fruits"
   ]
  },
  {
   "cell_type": "code",
   "execution_count": 28,
   "id": "f74f7c7a-5e8f-462d-893c-33af7e5d18c3",
   "metadata": {},
   "outputs": [
    {
     "data": {
      "text/plain": [
       "False"
      ]
     },
     "execution_count": 28,
     "metadata": {},
     "output_type": "execute_result"
    }
   ],
   "source": [
    "'pinapple' in fruits #checking if there is certain value in the list"
   ]
  },
  {
   "cell_type": "code",
   "execution_count": 35,
   "id": "e16c8a3e-acf8-4a62-8092-1b1d71a7f72a",
   "metadata": {},
   "outputs": [],
   "source": [
    "more_fruits = fruits + ['pinapple', 'tomato', 'guava'] + ['dates', 'banana'] #concatenating lists"
   ]
  },
  {
   "cell_type": "code",
   "execution_count": 36,
   "id": "f245ca18-5169-451e-9d74-441dea6df3ef",
   "metadata": {},
   "outputs": [
    {
     "data": {
      "text/plain": [
       "['apple', 'cherry', 'dates', 'pinapple', 'tomato', 'guava', 'dates', 'banana']"
      ]
     },
     "execution_count": 36,
     "metadata": {},
     "output_type": "execute_result"
    }
   ],
   "source": [
    "more_fruits"
   ]
  },
  {
   "cell_type": "code",
   "execution_count": 37,
   "id": "f8c08e33-4660-4910-beb2-1b246d85f5c0",
   "metadata": {},
   "outputs": [],
   "source": [
    "more_fruits.reverse() #reverse the order of elements in a list"
   ]
  },
  {
   "cell_type": "code",
   "execution_count": 38,
   "id": "4a88b5dc-38df-44e6-b9e3-8a5876e78796",
   "metadata": {},
   "outputs": [
    {
     "data": {
      "text/plain": [
       "['banana', 'dates', 'guava', 'tomato', 'pinapple', 'dates', 'cherry', 'apple']"
      ]
     },
     "execution_count": 38,
     "metadata": {},
     "output_type": "execute_result"
    }
   ],
   "source": [
    "more_fruits"
   ]
  },
  {
   "cell_type": "code",
   "execution_count": 39,
   "id": "89650363-0f09-4468-8370-ab1be20567ad",
   "metadata": {},
   "outputs": [],
   "source": [
    "even_more_fruits = ['peache', 'kiwi', 'lemon']\n",
    "more_fruits.extend(even_more_fruits) #adding only the elements of a list into another list"
   ]
  },
  {
   "cell_type": "code",
   "execution_count": 40,
   "id": "b81ca332-99d1-469e-8445-5c55333b2d67",
   "metadata": {},
   "outputs": [
    {
     "data": {
      "text/plain": [
       "['banana',\n",
       " 'dates',\n",
       " 'guava',\n",
       " 'tomato',\n",
       " 'pinapple',\n",
       " 'dates',\n",
       " 'cherry',\n",
       " 'apple',\n",
       " 'peache',\n",
       " 'kiwi',\n",
       " 'lemon']"
      ]
     },
     "execution_count": 40,
     "metadata": {},
     "output_type": "execute_result"
    }
   ],
   "source": [
    "more_fruits"
   ]
  },
  {
   "cell_type": "code",
   "execution_count": 42,
   "id": "1be09cd0-243e-4c7e-88f1-b8f507adb93c",
   "metadata": {},
   "outputs": [
    {
     "data": {
      "text/plain": [
       "['apple',\n",
       " 'banana',\n",
       " 'cherry',\n",
       " 'dates',\n",
       " 'dates',\n",
       " 'guava',\n",
       " 'kiwi',\n",
       " 'lemon',\n",
       " 'peache',\n",
       " 'pinapple',\n",
       " 'tomato']"
      ]
     },
     "execution_count": 42,
     "metadata": {},
     "output_type": "execute_result"
    }
   ],
   "source": [
    "more_fruits.sort() #sorting a list of strings in alphabetical order\n",
    "more_fruits"
   ]
  },
  {
   "cell_type": "code",
   "execution_count": 46,
   "id": "d9986151-d35b-4cad-bd57-c075056c6330",
   "metadata": {},
   "outputs": [
    {
     "data": {
      "text/plain": [
       "[6, 5, 4, 3, 1]"
      ]
     },
     "execution_count": 46,
     "metadata": {},
     "output_type": "execute_result"
    }
   ],
   "source": [
    "numbers = [1,3,4,5,6]\n",
    "numbers.sort(reverse=True) #sorting a list of numbers in decreasing order\n",
    "numbers"
   ]
  },
  {
   "cell_type": "markdown",
   "id": "557b8a9c-7692-4584-8491-b5ae33e563c0",
   "metadata": {},
   "source": [
    "## Tuples"
   ]
  },
  {
   "cell_type": "markdown",
   "id": "852d4f07-f6e5-45c0-89a2-9e44d48799f4",
   "metadata": {},
   "source": [
    "##### Similar to lists but tuples are imutable"
   ]
  },
  {
   "cell_type": "code",
   "execution_count": 1,
   "id": "c63a1a50-8704-4d71-a623-e84032559801",
   "metadata": {},
   "outputs": [],
   "source": [
    "tuple_example = ('apple', 'banana', 'passionfruit')"
   ]
  },
  {
   "cell_type": "code",
   "execution_count": 2,
   "id": "4ceacda0-8912-473c-a0ed-e18f72caf763",
   "metadata": {},
   "outputs": [
    {
     "data": {
      "text/plain": [
       "3"
      ]
     },
     "execution_count": 2,
     "metadata": {},
     "output_type": "execute_result"
    }
   ],
   "source": [
    "len(tuple_example) #checking the tuples' length"
   ]
  },
  {
   "cell_type": "code",
   "execution_count": 3,
   "id": "1431a3d1-5ad7-4778-bf51-8c31132f20ec",
   "metadata": {},
   "outputs": [
    {
     "data": {
      "text/plain": [
       "'banana'"
      ]
     },
     "execution_count": 3,
     "metadata": {},
     "output_type": "execute_result"
    }
   ],
   "source": [
    "tuple_example[1] #selecting a item by the index"
   ]
  },
  {
   "cell_type": "code",
   "execution_count": 4,
   "id": "cf4b0a58-ae11-4a51-9172-e3cc0b6d504a",
   "metadata": {},
   "outputs": [
    {
     "data": {
      "text/plain": [
       "'passionfruit'"
      ]
     },
     "execution_count": 4,
     "metadata": {},
     "output_type": "execute_result"
    }
   ],
   "source": [
    "tuple_example[-1] #selecting a item using negative index"
   ]
  },
  {
   "cell_type": "code",
   "execution_count": 5,
   "id": "f3da4d5e-eede-4cb9-868a-64218aee01c3",
   "metadata": {},
   "outputs": [
    {
     "data": {
      "text/plain": [
       "False"
      ]
     },
     "execution_count": 5,
     "metadata": {},
     "output_type": "execute_result"
    }
   ],
   "source": [
    "'guava' in tuple_example #checking if a value is within the tuple"
   ]
  },
  {
   "cell_type": "code",
   "execution_count": 6,
   "id": "81b3b802-84e5-43c5-b2b2-8d3e6a8cdedb",
   "metadata": {},
   "outputs": [
    {
     "ename": "TypeError",
     "evalue": "'tuple' object does not support item assignment",
     "output_type": "error",
     "traceback": [
      "\u001b[1;31m---------------------------------------------------------------------------\u001b[0m",
      "\u001b[1;31mTypeError\u001b[0m                                 Traceback (most recent call last)",
      "Cell \u001b[1;32mIn[6], line 1\u001b[0m\n\u001b[1;32m----> 1\u001b[0m \u001b[43mtuple_example\u001b[49m\u001b[43m[\u001b[49m\u001b[38;5;241;43m1\u001b[39;49m\u001b[43m]\u001b[49m \u001b[38;5;241m=\u001b[39m \u001b[38;5;124m'\u001b[39m\u001b[38;5;124mguava\u001b[39m\u001b[38;5;124m'\u001b[39m \u001b[38;5;66;03m#this is the biggest difference, tuples are imutable\u001b[39;00m\n",
      "\u001b[1;31mTypeError\u001b[0m: 'tuple' object does not support item assignment"
     ]
    }
   ],
   "source": [
    "tuple_example[1] = 'guava' #this is the biggest difference, tuples are imutable"
   ]
  },
  {
   "cell_type": "markdown",
   "id": "2137e786-4b3a-486b-a8a9-450c0c89cbb6",
   "metadata": {},
   "source": [
    "## Dictionary"
   ]
  },
  {
   "cell_type": "markdown",
   "id": "81bbd4e1-5fe3-47fe-bcdb-b02eb96b39e6",
   "metadata": {},
   "source": [
    "##### It is an unordered collection of items; there is always a key and a value"
   ]
  },
  {
   "cell_type": "code",
   "execution_count": 1,
   "id": "f5026d3a-289b-4ca3-b1dc-af08d6ead36a",
   "metadata": {},
   "outputs": [],
   "source": [
    "person1 = {\n",
    "    'name' : 'John Doe',\n",
    "    'sex' : 'Male',\n",
    "    'age': 32,\n",
    "    'married' : True \n",
    "}"
   ]
  },
  {
   "cell_type": "code",
   "execution_count": 2,
   "id": "80fce69f-8579-4223-98a0-9e69862342c9",
   "metadata": {},
   "outputs": [
    {
     "data": {
      "text/plain": [
       "{'name': 'John Doe', 'sex': 'Male', 'age': 32, 'married': True}"
      ]
     },
     "execution_count": 2,
     "metadata": {},
     "output_type": "execute_result"
    }
   ],
   "source": [
    "person1"
   ]
  },
  {
   "cell_type": "code",
   "execution_count": 3,
   "id": "4cf30dfe-5306-4752-a6be-ef1dca126621",
   "metadata": {},
   "outputs": [],
   "source": [
    "#Dictionaries can also be created using the dict function\n",
    "person2 = dict(name='Jane Judy', sex='Female', age=28, married=False)"
   ]
  },
  {
   "cell_type": "code",
   "execution_count": 4,
   "id": "8b662ca5-e39a-4ab1-99e4-fb94d65b9ea4",
   "metadata": {},
   "outputs": [
    {
     "data": {
      "text/plain": [
       "{'name': 'Jane Judy', 'sex': 'Female', 'age': 28, 'married': False}"
      ]
     },
     "execution_count": 4,
     "metadata": {},
     "output_type": "execute_result"
    }
   ],
   "source": [
    "person2"
   ]
  },
  {
   "cell_type": "code",
   "execution_count": 5,
   "id": "19d730f5-096b-4ab4-ae4a-a9389ff73c77",
   "metadata": {},
   "outputs": [],
   "source": [
    "person3 = dict(name='Juan', sex='Male', age=25, married=False)"
   ]
  },
  {
   "cell_type": "code",
   "execution_count": 6,
   "id": "cae14e67-cf79-4d30-92aa-5949c6cac6a7",
   "metadata": {},
   "outputs": [
    {
     "data": {
      "text/plain": [
       "{'name': 'Juan', 'sex': 'Male', 'age': 25, 'married': False}"
      ]
     },
     "execution_count": 6,
     "metadata": {},
     "output_type": "execute_result"
    }
   ],
   "source": [
    "person3"
   ]
  },
  {
   "cell_type": "code",
   "execution_count": 7,
   "id": "afae45aa-fd20-426d-b3ef-5651a20d6b7e",
   "metadata": {},
   "outputs": [
    {
     "data": {
      "text/plain": [
       "dict"
      ]
     },
     "execution_count": 7,
     "metadata": {},
     "output_type": "execute_result"
    }
   ],
   "source": [
    "type(person3)"
   ]
  },
  {
   "cell_type": "markdown",
   "id": "0403b928-d97f-4c7f-aca4-20994d89979c",
   "metadata": {},
   "source": [
    "#### Methods to access data from dict"
   ]
  },
  {
   "cell_type": "code",
   "execution_count": 8,
   "id": "995c866d-4243-46be-bea6-ce5be05d601f",
   "metadata": {},
   "outputs": [
    {
     "data": {
      "text/plain": [
       "'Juan'"
      ]
     },
     "execution_count": 8,
     "metadata": {},
     "output_type": "execute_result"
    }
   ],
   "source": [
    "person3['name']"
   ]
  },
  {
   "cell_type": "code",
   "execution_count": 11,
   "id": "9aef1628-2dbc-4000-ae61-5685cba8bd06",
   "metadata": {},
   "outputs": [
    {
     "ename": "KeyError",
     "evalue": "'Address'",
     "output_type": "error",
     "traceback": [
      "\u001b[1;31m---------------------------------------------------------------------------\u001b[0m",
      "\u001b[1;31mKeyError\u001b[0m                                  Traceback (most recent call last)",
      "Cell \u001b[1;32mIn[11], line 1\u001b[0m\n\u001b[1;32m----> 1\u001b[0m \u001b[43mperson3\u001b[49m\u001b[43m[\u001b[49m\u001b[38;5;124;43m'\u001b[39;49m\u001b[38;5;124;43mAddress\u001b[39;49m\u001b[38;5;124;43m'\u001b[39;49m\u001b[43m]\u001b[49m \u001b[38;5;66;03m# Keyerror is returned if the key does not exist\u001b[39;00m\n",
      "\u001b[1;31mKeyError\u001b[0m: 'Address'"
     ]
    }
   ],
   "source": [
    "person3['Address'] # Keyerror is returned if the key does not exist"
   ]
  },
  {
   "cell_type": "code",
   "execution_count": 13,
   "id": "47bf01ce-e98e-4d5c-811c-d8ff23594b8b",
   "metadata": {},
   "outputs": [
    {
     "data": {
      "text/plain": [
       "'Juan'"
      ]
     },
     "execution_count": 13,
     "metadata": {},
     "output_type": "execute_result"
    }
   ],
   "source": [
    "person3.get('name') #get method, very useful as well"
   ]
  },
  {
   "cell_type": "code",
   "execution_count": 15,
   "id": "f59bfdca-1a3b-4163-b135-96150343b975",
   "metadata": {},
   "outputs": [
    {
     "data": {
      "text/plain": [
       "'unknown'"
      ]
     },
     "execution_count": 15,
     "metadata": {},
     "output_type": "execute_result"
    }
   ],
   "source": [
    "person3.get('address', 'unknown') #you can set a value to be returned in case the key does not exist"
   ]
  },
  {
   "cell_type": "code",
   "execution_count": 16,
   "id": "e19bd371-38ff-40e8-a747-37cd9bd0e3d7",
   "metadata": {},
   "outputs": [
    {
     "data": {
      "text/plain": [
       "True"
      ]
     },
     "execution_count": 16,
     "metadata": {},
     "output_type": "execute_result"
    }
   ],
   "source": [
    "'name' in person3 #you can also check if the key is present in certain dict"
   ]
  },
  {
   "cell_type": "code",
   "execution_count": 19,
   "id": "30f763ec-f1c6-429a-b06f-d26d9e736e56",
   "metadata": {},
   "outputs": [
    {
     "data": {
      "text/plain": [
       "False"
      ]
     },
     "execution_count": 19,
     "metadata": {},
     "output_type": "execute_result"
    }
   ],
   "source": [
    "'address' in person3 #you can also check if the key is present in certain dict"
   ]
  },
  {
   "cell_type": "code",
   "execution_count": 20,
   "id": "7df29612-0538-4478-bdab-d44721c2d9f5",
   "metadata": {},
   "outputs": [
    {
     "data": {
      "text/plain": [
       "False"
      ]
     },
     "execution_count": 20,
     "metadata": {},
     "output_type": "execute_result"
    }
   ],
   "source": [
    "person3['married']"
   ]
  },
  {
   "cell_type": "code",
   "execution_count": 23,
   "id": "a3f633e3-05f4-481b-859b-0232332f65cf",
   "metadata": {},
   "outputs": [],
   "source": [
    "person3['married'] = True #You can also change the value associated with a key using the assignment operator"
   ]
  },
  {
   "cell_type": "code",
   "execution_count": 24,
   "id": "70d78caa-591d-454a-a494-95ebc8d8efae",
   "metadata": {},
   "outputs": [
    {
     "data": {
      "text/plain": [
       "True"
      ]
     },
     "execution_count": 24,
     "metadata": {},
     "output_type": "execute_result"
    }
   ],
   "source": [
    "person3['married']"
   ]
  },
  {
   "cell_type": "code",
   "execution_count": 32,
   "id": "17c0878f-21bc-4f57-b6e0-5db28d059ecc",
   "metadata": {},
   "outputs": [],
   "source": [
    "person3['address'] = 'Collins Square, Benburb Street' #you can also add new key-value pairs to the dictionary"
   ]
  },
  {
   "cell_type": "code",
   "execution_count": 33,
   "id": "0358114b-f6fa-42df-af7b-cb6d5b425ebb",
   "metadata": {},
   "outputs": [
    {
     "data": {
      "text/plain": [
       "{'name': 'Juan',\n",
       " 'sex': 'Male',\n",
       " 'age': 25,\n",
       " 'married': True,\n",
       " 'address': 'Collins Square, Benburb Street'}"
      ]
     },
     "execution_count": 33,
     "metadata": {},
     "output_type": "execute_result"
    }
   ],
   "source": [
    "person3"
   ]
  },
  {
   "cell_type": "code",
   "execution_count": 34,
   "id": "203ebf73-3a7c-456f-a760-122fe7bceb2d",
   "metadata": {},
   "outputs": [
    {
     "data": {
      "text/plain": [
       "'Collins Square, Benburb Street'"
      ]
     },
     "execution_count": 34,
     "metadata": {},
     "output_type": "execute_result"
    }
   ],
   "source": [
    "person3.pop('address') #you can remove the key-value as well"
   ]
  },
  {
   "cell_type": "code",
   "execution_count": 35,
   "id": "03f614c5-25e6-4b47-b607-e3ec3352ae40",
   "metadata": {},
   "outputs": [
    {
     "data": {
      "text/plain": [
       "{'name': 'Juan', 'sex': 'Male', 'age': 25, 'married': True}"
      ]
     },
     "execution_count": 35,
     "metadata": {},
     "output_type": "execute_result"
    }
   ],
   "source": [
    "person3"
   ]
  },
  {
   "cell_type": "markdown",
   "id": "e04a64ed-4f0b-480e-bf2d-3122ba7c3757",
   "metadata": {},
   "source": [
    "#### Dictionaries also provide methods to view the list of keys, values or key-values pairs inside it"
   ]
  },
  {
   "cell_type": "code",
   "execution_count": 37,
   "id": "90068c77-c262-4191-8cb2-38ee63934961",
   "metadata": {},
   "outputs": [
    {
     "data": {
      "text/plain": [
       "dict_keys(['name', 'sex', 'age', 'married'])"
      ]
     },
     "execution_count": 37,
     "metadata": {},
     "output_type": "execute_result"
    }
   ],
   "source": [
    "person3.keys()"
   ]
  },
  {
   "cell_type": "code",
   "execution_count": 38,
   "id": "52ae38b5-92c2-42db-9a3d-2b3605b747d1",
   "metadata": {},
   "outputs": [
    {
     "data": {
      "text/plain": [
       "dict_values(['Juan', 'Male', 25, True])"
      ]
     },
     "execution_count": 38,
     "metadata": {},
     "output_type": "execute_result"
    }
   ],
   "source": [
    "person3.values()"
   ]
  },
  {
   "cell_type": "code",
   "execution_count": 39,
   "id": "c61656dc-7a62-4c99-9cd0-7197f1fb73b2",
   "metadata": {},
   "outputs": [
    {
     "data": {
      "text/plain": [
       "dict_items([('name', 'Juan'), ('sex', 'Male'), ('age', 25), ('married', True)])"
      ]
     },
     "execution_count": 39,
     "metadata": {},
     "output_type": "execute_result"
    }
   ],
   "source": [
    "person3.items()"
   ]
  },
  {
   "cell_type": "code",
   "execution_count": 40,
   "id": "f59ad8de-3d53-4abd-a7e3-9f9ee5055943",
   "metadata": {},
   "outputs": [
    {
     "ename": "TypeError",
     "evalue": "'dict_items' object is not subscriptable",
     "output_type": "error",
     "traceback": [
      "\u001b[1;31m---------------------------------------------------------------------------\u001b[0m",
      "\u001b[1;31mTypeError\u001b[0m                                 Traceback (most recent call last)",
      "Cell \u001b[1;32mIn[40], line 1\u001b[0m\n\u001b[1;32m----> 1\u001b[0m \u001b[43mperson3\u001b[49m\u001b[38;5;241;43m.\u001b[39;49m\u001b[43mitems\u001b[49m\u001b[43m(\u001b[49m\u001b[43m)\u001b[49m\u001b[43m[\u001b[49m\u001b[38;5;241;43m1\u001b[39;49m\u001b[43m]\u001b[49m\n",
      "\u001b[1;31mTypeError\u001b[0m: 'dict_items' object is not subscriptable"
     ]
    }
   ],
   "source": [
    "person3.items()[1]"
   ]
  },
  {
   "cell_type": "markdown",
   "id": "c3a59c85-6daf-4083-b64b-b9e335ee36f9",
   "metadata": {},
   "source": [
    "## Conditional Statements"
   ]
  },
  {
   "cell_type": "markdown",
   "id": "0036fa6c-224b-416c-aa8d-1292d23b9f1d",
   "metadata": {},
   "source": [
    "#### IF Statement"
   ]
  },
  {
   "cell_type": "code",
   "execution_count": 1,
   "id": "3ee7b47a-d4c2-4dec-be8d-b676ede2195b",
   "metadata": {},
   "outputs": [],
   "source": [
    "a_number = 34"
   ]
  },
  {
   "cell_type": "code",
   "execution_count": 2,
   "id": "6cfabd9a-e0c1-43d2-aa36-a10493750e7f",
   "metadata": {},
   "outputs": [
    {
     "name": "stdout",
     "output_type": "stream",
     "text": [
      "We are inside an if block!\n",
      "The given number 34 is even\n"
     ]
    }
   ],
   "source": [
    "if a_number % 2 == 0:\n",
    "    print(\"We are inside an if block!\")\n",
    "    print(\"The given number {} is even\".format(a_number))"
   ]
  },
  {
   "cell_type": "code",
   "execution_count": 3,
   "id": "cccafdca-b00e-4769-8ab0-b5354f86db8f",
   "metadata": {},
   "outputs": [],
   "source": [
    "another_number = 33"
   ]
  },
  {
   "cell_type": "code",
   "execution_count": 9,
   "id": "7419d8d6-ed82-4668-9716-bf02edfdcfea",
   "metadata": {},
   "outputs": [],
   "source": [
    "if another_number % 2 == 0:\n",
    "    print(\"The given number {} is even\".format(another_number))"
   ]
  },
  {
   "cell_type": "code",
   "execution_count": 11,
   "id": "e70b1cf4-3c8e-4e10-a3cf-ae56146990fa",
   "metadata": {},
   "outputs": [
    {
     "name": "stdout",
     "output_type": "stream",
     "text": [
      "The given number 33 is odd\n"
     ]
    }
   ],
   "source": [
    "if another_number % 2 == 0:\n",
    "    print(\"The given number {} is even\".format(another_number))\n",
    "else:\n",
    "    print(\"The given number {} is odd\".format(another_number)) "
   ]
  },
  {
   "cell_type": "code",
   "execution_count": 12,
   "id": "0e0448de-a2b0-4025-8f4d-4b7f8d3945e6",
   "metadata": {},
   "outputs": [],
   "source": [
    "the_3_musketeers = (\"Athos\", \"Porthos\", \"Aramis\")"
   ]
  },
  {
   "cell_type": "code",
   "execution_count": 14,
   "id": "39545d57-d8b2-4bdc-8493-1121da8b1a61",
   "metadata": {},
   "outputs": [],
   "source": [
    "a_candidate = \"D'Artagan\""
   ]
  },
  {
   "cell_type": "code",
   "execution_count": 16,
   "id": "f04ad4c6-5078-4ce5-987b-bdf5c8f0147a",
   "metadata": {},
   "outputs": [
    {
     "name": "stdout",
     "output_type": "stream",
     "text": [
      "D'Artagan is not a musketeer\n"
     ]
    }
   ],
   "source": [
    "if a_candidate in the_3_musketeers:\n",
    "    print(\"{} is a musketeer\".format(a_candidate))\n",
    "else:\n",
    "    print(\"{} is not a musketeer\".format(a_candidate))"
   ]
  },
  {
   "cell_type": "markdown",
   "id": "7f97e615-4e5e-443d-803f-4d1dabc5fb64",
   "metadata": {},
   "source": [
    "#### The ELIF Statement"
   ]
  },
  {
   "cell_type": "code",
   "execution_count": 17,
   "id": "031cd35d-6f6e-4d97-b535-88a060f2c14d",
   "metadata": {},
   "outputs": [],
   "source": [
    "today = \"Sunday\""
   ]
  },
  {
   "cell_type": "code",
   "execution_count": 18,
   "id": "a40fa15e-0663-4056-96ae-65a57fe20069",
   "metadata": {},
   "outputs": [
    {
     "name": "stdout",
     "output_type": "stream",
     "text": [
      "Today is the day of the sun.\n"
     ]
    }
   ],
   "source": [
    "if today == \"Sunday\":\n",
    "    print(\"Today is the day of the sun.\")\n",
    "elif today == \"Monday\":\n",
    "    print(\"Today is the day of the moon.\")\n",
    "elif today == \"Tuesday\":\n",
    "    print(\"Today is the day of the Tyr, the god of war.\")\n",
    "elif today == \"Wednesday\":\n",
    "    print(\"Today is the day of Odin, the supreme diety \")\n",
    "elif today == \"Thursday\":\n",
    "    print(\"Today is the day of Thor, the god of thunder\")\n",
    "elif today == \"Friday\":\n",
    "    print(\"Today is the day of Frigga, the goddess of beauty\")\n",
    "elif today == \"Saturday\":\n",
    "    print(\"Today is the day of Saturn, the god of fun and feasting.\")"
   ]
  },
  {
   "cell_type": "markdown",
   "id": "03116769-3deb-4f6b-8e3f-fea5877b15db",
   "metadata": {},
   "source": [
    "### We can mix IF, ELIF and ELSE Statements"
   ]
  },
  {
   "cell_type": "code",
   "execution_count": 20,
   "id": "4529edbb-569c-4634-93c2-fdfcb3987746",
   "metadata": {},
   "outputs": [
    {
     "name": "stdout",
     "output_type": "stream",
     "text": [
      "The given number 34 is even\n"
     ]
    }
   ],
   "source": [
    "if a_number % 2 ==0:\n",
    "    print(\"The given number {} is even\".format(a_number))\n",
    "elif a_number % 3 == 0:\n",
    "    print(\"The given number {} is odd\".format(a_number))\n",
    "elif a_number % 5 == 0:\n",
    "    print(\"The given number {} is divisible by 5\".format(a_number))\n",
    "else:\n",
    "    print(\"All checks failed!\")\n",
    "    print(\"{} is not divisible by 2, 3 or 5\".format(a_number))"
   ]
  },
  {
   "cell_type": "code",
   "execution_count": 21,
   "id": "81aa5b61-6be9-4be5-8ae9-35837c477c56",
   "metadata": {},
   "outputs": [],
   "source": [
    "a_number = 12"
   ]
  },
  {
   "cell_type": "code",
   "execution_count": 22,
   "id": "e3392bc3-9c56-4e17-b87a-d9065907bd67",
   "metadata": {},
   "outputs": [
    {
     "name": "stdout",
     "output_type": "stream",
     "text": [
      "The number 12 is not divisible by 5.\n"
     ]
    }
   ],
   "source": [
    "if a_number % 3 == 0 and a_number % 5 == 0:\n",
    "    print(\"The number {} is divisible by 3 and 5.\".format(a_number))\n",
    "elif not a_number % 5 == 0:\n",
    "    print(\"The number {} is not divisible by 5.\".format(a_number))"
   ]
  },
  {
   "cell_type": "code",
   "execution_count": 23,
   "id": "33de1dd5-218f-48cf-a65a-0f3856cfad79",
   "metadata": {},
   "outputs": [
    {
     "name": "stdout",
     "output_type": "stream",
     "text": [
      "The number 12 is even\n",
      "The number 12 is also divisible by 3\n"
     ]
    }
   ],
   "source": [
    "if a_number % 2 == 0:\n",
    "    print(\"The number {} is even\".format(a_number))\n",
    "    if a_number % 3 == 0:\n",
    "        print(\"The number {} is also divisible by 3\".format(a_number))\n",
    "    else:\n",
    "        print(\"The number {} is NOT divisible by 3\".format(a_number))\n",
    "else:\n",
    "    print(\"The number {} is odd\".format(a_number))\n",
    "    if a_number % 5 == 0:\n",
    "        print(\"The number {} is also divisible by 5\".format(a_number))\n",
    "    else:\n",
    "        print(\"The number {} is NOT divisible by 5\".format(a_number))"
   ]
  },
  {
   "cell_type": "code",
   "execution_count": 29,
   "id": "0c45ccba-6ec3-4848-a576-2e8d7dd10f38",
   "metadata": {},
   "outputs": [
    {
     "name": "stdout",
     "output_type": "stream",
     "text": [
      "The factorial of 100 is: 93326215443944152681699238856266700490715968264381621468592963895217599993229915608941463976156518286253697920827223758251185210916864000000000000000000000000\n"
     ]
    }
   ],
   "source": [
    "result = 1\n",
    "i = 1\n",
    "\n",
    "while i <= 100:\n",
    "    result = result * i\n",
    "    i = i+1\n",
    "\n",
    "print(\"The factorial of 100 is: {}\".format(result))"
   ]
  },
  {
   "cell_type": "code",
   "execution_count": 1,
   "id": "24c4921f-face-41cd-96c9-65e32022d83e",
   "metadata": {},
   "outputs": [
    {
     "name": "stdout",
     "output_type": "stream",
     "text": [
      "*\n",
      "**\n",
      "***\n",
      "****\n",
      "*****\n",
      "******\n",
      "*******\n",
      "********\n",
      "*********\n",
      "**********\n",
      "*********\n",
      "********\n",
      "*******\n",
      "******\n",
      "*****\n",
      "****\n",
      "***\n",
      "**\n",
      "*\n"
     ]
    }
   ],
   "source": [
    "line = '*'\n",
    "max_length = 10\n",
    "\n",
    "while len(line) < max_length:\n",
    "    print(line)\n",
    "    line += '*'\n",
    "\n",
    "while len(line) > 0:\n",
    "    print(line)\n",
    "    line = line[:-1]"
   ]
  },
  {
   "cell_type": "code",
   "execution_count": 34,
   "id": "c14b4305-8043-48fb-8d9f-953bdfed4aed",
   "metadata": {},
   "outputs": [
    {
     "name": "stdout",
     "output_type": "stream",
     "text": [
      "       *\n",
      "      **\n",
      "     ***\n",
      "    ****\n",
      "   *****\n",
      "  ******\n",
      "   *****\n",
      "    ****\n",
      "     ***\n",
      "      **\n",
      "       *\n"
     ]
    }
   ],
   "source": [
    "line = '*' * 6\n",
    "max_length = 7\n",
    "i = 1\n",
    "\n",
    "while len(line) > 0:\n",
    "    print(\" \"*len(line) , \"*\" * i)\n",
    "    line = line [:-1]\n",
    "    i += 1\n",
    "\n",
    "line = '**'\n",
    "i=5\n",
    "while len(line) < max_length:\n",
    "    print(\" \"*len(line) , \"*\" * i)\n",
    "    line += '*'\n",
    "    i -= 1"
   ]
  },
  {
   "cell_type": "markdown",
   "id": "e9d656fa-ef62-4744-8f76-b744a52c4c0f",
   "metadata": {},
   "source": [
    "### Break and Continue Statements"
   ]
  },
  {
   "cell_type": "code",
   "execution_count": 40,
   "id": "4b22d5a8-e29f-47a4-8519-693dca2cb471",
   "metadata": {},
   "outputs": [
    {
     "name": "stdout",
     "output_type": "stream",
     "text": [
      "Magic number 42 reached! Stopping execution...\n",
      "i:  42\n",
      "result:  1405006117752879898543142606244511569936384000000000\n"
     ]
    }
   ],
   "source": [
    "i = 1\n",
    "result = 1\n",
    "\n",
    "while i <= 100:\n",
    "    result *= i\n",
    "    if i == 42:\n",
    "        print('Magic number 42 reached! Stopping execution...') \n",
    "        break\n",
    "    i += 1\n",
    "print(\"i: \", i)\n",
    "print(\"result: \", result)"
   ]
  },
  {
   "cell_type": "code",
   "execution_count": 42,
   "id": "b3075805-702c-4259-af0d-6ea6abd985b5",
   "metadata": {},
   "outputs": [
    {
     "name": "stdout",
     "output_type": "stream",
     "text": [
      "Skipping number 2\n",
      "Multiplying with number 3\n",
      "Skipping number 4\n",
      "Multiplying with number 5\n",
      "Skipping number 6\n",
      "Multiplying with number 7\n",
      "Skipping number 8\n",
      "Multiplying with number 9\n",
      "Skipping number 10\n",
      "Multiplying with number 11\n",
      "Skipping number 12\n",
      "Multiplying with number 13\n",
      "Skipping number 14\n",
      "Multiplying with number 15\n",
      "Skipping number 16\n",
      "Multiplying with number 17\n",
      "Skipping number 18\n",
      "Multiplying with number 19\n",
      "Skipping number 20\n",
      "i:  20\n",
      "result:  1\n"
     ]
    }
   ],
   "source": [
    "i = 1\n",
    "result = 1\n",
    "\n",
    "while i < 20:\n",
    "    i += 1\n",
    "    if i % 2 == 0:\n",
    "        print(\"Skipping number {}\".format(i))\n",
    "        continue\n",
    "    print(\"Multiplying with number {}\".format(i))\n",
    "\n",
    "print('i: ', i)\n",
    "print('result: ', result)"
   ]
  },
  {
   "cell_type": "markdown",
   "id": "062f908a-c6f0-40c4-9a90-a10caf4a2deb",
   "metadata": {},
   "source": [
    "# For loop"
   ]
  },
  {
   "cell_type": "code",
   "execution_count": 43,
   "id": "199e82d2-dddb-4a32-813f-c712fa9c8334",
   "metadata": {},
   "outputs": [
    {
     "name": "stdout",
     "output_type": "stream",
     "text": [
      "Monday\n",
      "Tuesday\n",
      "Wednesday\n",
      "Thursday\n",
      "Friday\n",
      "Saturday\n"
     ]
    }
   ],
   "source": [
    "days = ['Monday', 'Tuesday', 'Wednesday', 'Thursday', 'Friday', 'Saturday']\n",
    "\n",
    "for day in days:\n",
    "    print(day)"
   ]
  },
  {
   "cell_type": "code",
   "execution_count": 45,
   "id": "2dadc7d4-51cc-4195-8163-47a04065b690",
   "metadata": {},
   "outputs": [
    {
     "name": "stdout",
     "output_type": "stream",
     "text": [
      "M\n",
      "o\n",
      "n\n",
      "d\n",
      "a\n",
      "y\n"
     ]
    }
   ],
   "source": [
    "#looping over a string\n",
    "\n",
    "for char in 'Monday':\n",
    "    print(char)"
   ]
  },
  {
   "cell_type": "code",
   "execution_count": 48,
   "id": "8fc107b7-1ead-45a7-b3eb-1d67e919e937",
   "metadata": {},
   "outputs": [
    {
     "name": "stdout",
     "output_type": "stream",
     "text": [
      "Here's a fruit:  Apple\n",
      "Here's a fruit:  Banana\n",
      "Here's a fruit:  Guava\n"
     ]
    }
   ],
   "source": [
    "#Looping over a tuple\n",
    "\n",
    "for fruit in ['Apple', 'Banana', 'Guava']:\n",
    "    print(\"Here's a fruit: \", fruit)"
   ]
  },
  {
   "cell_type": "code",
   "execution_count": 53,
   "id": "6f7f0473-3fd1-47bb-ae55-5b133c9dbb1c",
   "metadata": {},
   "outputs": [
    {
     "name": "stdout",
     "output_type": "stream",
     "text": [
      "Key: name Value: John\n",
      "Key: sex Value: Male\n",
      "Key: age Value: 30\n",
      "Key: married Value: True\n"
     ]
    }
   ],
   "source": [
    "#Looping over a dictionary\n",
    "\n",
    "person = {\n",
    "    'name': 'John',\n",
    "    'sex': 'Male',\n",
    "    'age': 30,\n",
    "    'married': True\n",
    "}\n",
    "\n",
    "for key in person:\n",
    "    print(\"Key:\", key, \"Value:\", person[key])"
   ]
  },
  {
   "cell_type": "code",
   "execution_count": 54,
   "id": "c019559a-55f9-41ae-90ed-d5163b44d6ce",
   "metadata": {},
   "outputs": [
    {
     "name": "stdout",
     "output_type": "stream",
     "text": [
      "John\n",
      "Male\n",
      "30\n",
      "True\n"
     ]
    }
   ],
   "source": [
    "#only printing values\n",
    "for values in person.values():\n",
    "    print(values)"
   ]
  },
  {
   "cell_type": "code",
   "execution_count": 55,
   "id": "7472d824-d0f1-496a-bcb5-38c3052dc810",
   "metadata": {},
   "outputs": [
    {
     "name": "stdout",
     "output_type": "stream",
     "text": [
      "('name', 'John')\n",
      "('sex', 'Male')\n",
      "('age', 30)\n",
      "('married', True)\n"
     ]
    }
   ],
   "source": [
    "#items function\n",
    "for items in person.items():\n",
    "    print(items)"
   ]
  },
  {
   "cell_type": "code",
   "execution_count": 62,
   "id": "1b1aa95a-e064-47bb-8491-dd1bac5516d9",
   "metadata": {},
   "outputs": [
    {
     "name": "stdout",
     "output_type": "stream",
     "text": [
      "The value at position 0 is Monday\n",
      "The value at position 1 is Tuesday\n",
      "The value at position 2 is Wednesday\n",
      "The value at position 3 is Thursday\n",
      "The value at position 4 is Friday\n"
     ]
    }
   ],
   "source": [
    "a_list = ['Monday', 'Tuesday', 'Wednesday', 'Thursday', 'Friday']\n",
    "\n",
    "for i in range(len(a_list)):\n",
    "    print('The value at position {} is {}'. format(i, a_list[i]))"
   ]
  },
  {
   "cell_type": "code",
   "execution_count": 68,
   "id": "d4b77f46-b938-429c-bf60-d4deba2789b5",
   "metadata": {},
   "outputs": [
    {
     "name": "stdout",
     "output_type": "stream",
     "text": [
      "Today is Monday\n",
      "Today is Tuesday\n",
      "Today is Wednesday\n",
      "I don't work beyond Wednesday!\n"
     ]
    }
   ],
   "source": [
    "for day in a_list:\n",
    "    print('Today is {}'.format(day))\n",
    "    if day == 'Wednesday':\n",
    "        print(\"I don't work beyond Wednesday!\")\n",
    "        break"
   ]
  },
  {
   "cell_type": "code",
   "execution_count": 70,
   "id": "3738978b-9135-400e-b8e8-42081eccf3da",
   "metadata": {},
   "outputs": [
    {
     "name": "stdout",
     "output_type": "stream",
     "text": [
      "Today is Monday\n",
      "Today is Tuesday\n",
      "I don't work beyond Wednesday!\n",
      "Today is Thursday\n",
      "Today is Friday\n"
     ]
    }
   ],
   "source": [
    "for day in a_list:\n",
    "    if day == 'Wednesday':\n",
    "        print(\"I don't work beyond Wednesday!\")\n",
    "        continue\n",
    "    print('Today is {}'.format(day))"
   ]
  },
  {
   "cell_type": "code",
   "execution_count": 72,
   "id": "10a957a1-e335-4e26-8972-1d7e2ff67ae8",
   "metadata": {},
   "outputs": [
    {
     "name": "stdout",
     "output_type": "stream",
     "text": [
      "Key: name Value: John\n",
      "Key: age Value: 20\n",
      "Key: married Value: True\n",
      "\n",
      "Key: name Value: Maria\n",
      "Key: age Value: 30\n",
      "Key: married Value: False\n",
      "\n"
     ]
    }
   ],
   "source": [
    "persons = [{'name': 'John', 'age':20, 'married': True}, {'name': 'Maria', 'age':30, 'married': False}]\n",
    "\n",
    "for person in persons:\n",
    "    for key in person:\n",
    "        print('Key:', key, 'Value:', person[key])\n",
    "    print('')"
   ]
  },
  {
   "cell_type": "code",
   "execution_count": 73,
   "id": "9a915e44-f2f6-4fe5-bc9f-7c8819afe4fc",
   "metadata": {},
   "outputs": [
    {
     "name": "stdout",
     "output_type": "stream",
     "text": [
      "Monday Banana\n",
      "Monday Guava\n",
      "Monday Orange\n",
      "Tuesday Banana\n",
      "Tuesday Guava\n",
      "Tuesday Orange\n",
      "Wednesday Banana\n",
      "Wednesday Guava\n",
      "Wednesday Orange\n"
     ]
    }
   ],
   "source": [
    "days = ['Monday', 'Tuesday', 'Wednesday']\n",
    "fruits = ['Banana', 'Guava', 'Orange']\n",
    "\n",
    "for day in days:\n",
    "    for fruit in fruits:\n",
    "        print(day, fruit)"
   ]
  },
  {
   "cell_type": "code",
   "execution_count": null,
   "id": "abe311db-ecab-4d46-b410-06ba6d10bae6",
   "metadata": {},
   "outputs": [],
   "source": []
  }
 ],
 "metadata": {
  "kernelspec": {
   "display_name": "Python 3 (ipykernel)",
   "language": "python",
   "name": "python3"
  },
  "language_info": {
   "codemirror_mode": {
    "name": "ipython",
    "version": 3
   },
   "file_extension": ".py",
   "mimetype": "text/x-python",
   "name": "python",
   "nbconvert_exporter": "python",
   "pygments_lexer": "ipython3",
   "version": "3.9.12"
  }
 },
 "nbformat": 4,
 "nbformat_minor": 5
}
