{
 "cells": [
  {
   "cell_type": "code",
   "execution_count": 1,
   "id": "3018714d-93eb-4b26-81d7-8d19d9355bfc",
   "metadata": {},
   "outputs": [
    {
     "data": {
      "text/plain": [
       "14"
      ]
     },
     "execution_count": 1,
     "metadata": {},
     "output_type": "execute_result"
    }
   ],
   "source": [
    "2 + 3 + 9"
   ]
  },
  {
   "cell_type": "code",
   "execution_count": 2,
   "id": "0a8055b1-7af6-4177-8f4d-d316ee3df06f",
   "metadata": {},
   "outputs": [
    {
     "data": {
      "text/plain": [
       "26"
      ]
     },
     "execution_count": 2,
     "metadata": {},
     "output_type": "execute_result"
    }
   ],
   "source": [
    "99-73"
   ]
  },
  {
   "cell_type": "code",
   "execution_count": 3,
   "id": "b94af7df-6e43-4899-9fa3-b99e8d48f422",
   "metadata": {},
   "outputs": [
    {
     "data": {
      "text/plain": [
       "-34274.24"
      ]
     },
     "execution_count": 3,
     "metadata": {},
     "output_type": "execute_result"
    }
   ],
   "source": [
    "23.54 * -1456"
   ]
  },
  {
   "cell_type": "code",
   "execution_count": 4,
   "id": "45eb48ed-2f52-4617-a636-93e07092bfcc",
   "metadata": {},
   "outputs": [
    {
     "data": {
      "text/plain": [
       "14.285714285714286"
      ]
     },
     "execution_count": 4,
     "metadata": {},
     "output_type": "execute_result"
    }
   ],
   "source": [
    "100/7"
   ]
  },
  {
   "cell_type": "code",
   "execution_count": 5,
   "id": "48815bc9-3710-4abc-91ad-8f8c39da063d",
   "metadata": {},
   "outputs": [
    {
     "data": {
      "text/plain": [
       "14"
      ]
     },
     "execution_count": 5,
     "metadata": {},
     "output_type": "execute_result"
    }
   ],
   "source": [
    "100//7"
   ]
  },
  {
   "cell_type": "code",
   "execution_count": 6,
   "id": "f33134ce-236e-49df-bb4e-1a9f7d05f1ae",
   "metadata": {},
   "outputs": [
    {
     "data": {
      "text/plain": [
       "2"
      ]
     },
     "execution_count": 6,
     "metadata": {},
     "output_type": "execute_result"
    }
   ],
   "source": [
    "100 % 7"
   ]
  },
  {
   "cell_type": "code",
   "execution_count": 7,
   "id": "e565d5bf-b76d-4350-a136-5c43e9d8badb",
   "metadata": {},
   "outputs": [
    {
     "data": {
      "text/plain": [
       "125"
      ]
     },
     "execution_count": 7,
     "metadata": {},
     "output_type": "execute_result"
    }
   ],
   "source": [
    "5 ** 3"
   ]
  },
  {
   "cell_type": "code",
   "execution_count": 10,
   "id": "887de4d4-59d0-4cf4-9cbf-26177201df02",
   "metadata": {},
   "outputs": [
    {
     "data": {
      "text/plain": [
       "1.53125"
      ]
     },
     "execution_count": 10,
     "metadata": {},
     "output_type": "execute_result"
    }
   ],
   "source": [
    "((2 + 5) * (17 -3)) / (4 ** 3)"
   ]
  },
  {
   "cell_type": "markdown",
   "id": "7dc3fe38-42fa-47a3-a03f-2499147fb7bf",
   "metadata": {},
   "source": [
    "Exercise\n",
    "\n",
    "How much profit does the company make selling ice?"
   ]
  },
  {
   "cell_type": "code",
   "execution_count": 11,
   "id": "f85cd080-51a8-4b02-a81d-d692c1d18b90",
   "metadata": {},
   "outputs": [],
   "source": [
    "cost_of_ice = 1.25"
   ]
  },
  {
   "cell_type": "code",
   "execution_count": 12,
   "id": "c7499fd2-7665-4b66-a1a5-7fc426433a8e",
   "metadata": {},
   "outputs": [],
   "source": [
    "profit_margin = 0.2"
   ]
  },
  {
   "cell_type": "code",
   "execution_count": 13,
   "id": "89450453-355c-48cd-92eb-1a3293afd962",
   "metadata": {},
   "outputs": [],
   "source": [
    "profit_per_bag = cost_of_ice * profit_margin"
   ]
  },
  {
   "cell_type": "code",
   "execution_count": 14,
   "id": "f94d88f4-3d30-4df4-95b6-ae72e2beea3c",
   "metadata": {},
   "outputs": [
    {
     "data": {
      "text/plain": [
       "0.25"
      ]
     },
     "execution_count": 14,
     "metadata": {},
     "output_type": "execute_result"
    }
   ],
   "source": [
    "profit_per_bag"
   ]
  },
  {
   "cell_type": "code",
   "execution_count": 15,
   "id": "3173666d-830f-4e26-b2ae-2f85da77838a",
   "metadata": {},
   "outputs": [],
   "source": [
    "no_of_bags = 500"
   ]
  },
  {
   "cell_type": "code",
   "execution_count": 16,
   "id": "00a21534-451a-4640-b300-690f77544a24",
   "metadata": {},
   "outputs": [],
   "source": [
    "total_profit = profit_per_bag * no_of_bags"
   ]
  },
  {
   "cell_type": "code",
   "execution_count": 17,
   "id": "7db4444b-e343-418d-9f51-ce9b2fac5577",
   "metadata": {},
   "outputs": [
    {
     "data": {
      "text/plain": [
       "125.0"
      ]
     },
     "execution_count": 17,
     "metadata": {},
     "output_type": "execute_result"
    }
   ],
   "source": [
    "total_profit"
   ]
  },
  {
   "cell_type": "code",
   "execution_count": 20,
   "id": "322b6444-9d92-4a65-8cec-e1ec61d89358",
   "metadata": {},
   "outputs": [
    {
     "name": "stdout",
     "output_type": "stream",
     "text": [
      "The grocery store makes a total profit of $ 125.0\n"
     ]
    }
   ],
   "source": [
    "print(\"The grocery store makes a total profit of $\" ,total_profit)"
   ]
  },
  {
   "cell_type": "code",
   "execution_count": 22,
   "id": "40ab9b90-3a22-45a9-a040-ccc4b3172fbc",
   "metadata": {},
   "outputs": [
    {
     "name": "stdout",
     "output_type": "stream",
     "text": [
      "The grocery store makes a total profit of $ 125.0\n"
     ]
    }
   ],
   "source": [
    "#Store input data in variables\n",
    "cost_of_ice_bag = 1.25\n",
    "profit_margin =.2\n",
    "number_of_bags = 500\n",
    "\n",
    "#making calculations\n",
    "profit_per_bag = cost_of_ice_bag * profit_margin\n",
    "total_profit = profit_per_bag * number_of_bags\n",
    "\n",
    "#Display the result\n",
    "print(\"The grocery store makes a total profit of $\", total_profit)"
   ]
  },
  {
   "cell_type": "markdown",
   "id": "014bbbf5-1317-4451-8063-573df477f12f",
   "metadata": {},
   "source": [
    "Evaluating Conditions (==, <, > ...)"
   ]
  },
  {
   "cell_type": "code",
   "execution_count": 23,
   "id": "4808d313-aa11-4528-b265-52a1f8005439",
   "metadata": {},
   "outputs": [],
   "source": [
    "my_favorite_number = 10\n",
    "my_least_favorite_number = 201\n",
    "a_neutral_number = 3"
   ]
  },
  {
   "cell_type": "code",
   "execution_count": 25,
   "id": "9101406c-1cd5-47d3-9087-b666d36f1460",
   "metadata": {},
   "outputs": [
    {
     "data": {
      "text/plain": [
       "True"
      ]
     },
     "execution_count": 25,
     "metadata": {},
     "output_type": "execute_result"
    }
   ],
   "source": [
    "#Equality check True\n",
    "my_favorite_number == 10"
   ]
  },
  {
   "cell_type": "code",
   "execution_count": 26,
   "id": "0fc07a62-97c1-43ad-9fe1-d4197113b0c7",
   "metadata": {},
   "outputs": [
    {
     "data": {
      "text/plain": [
       "False"
      ]
     },
     "execution_count": 26,
     "metadata": {},
     "output_type": "execute_result"
    }
   ],
   "source": [
    "#Equality check False\n",
    "my_favorite_number == my_least_favorite_number"
   ]
  },
  {
   "cell_type": "code",
   "execution_count": 27,
   "id": "dfca594d-dcad-45d6-81ce-ab2a10e4b4eb",
   "metadata": {},
   "outputs": [
    {
     "data": {
      "text/plain": [
       "True"
      ]
     },
     "execution_count": 27,
     "metadata": {},
     "output_type": "execute_result"
    }
   ],
   "source": [
    "#Not equal check True\n",
    "my_favorite_number != a_neutral_number"
   ]
  },
  {
   "cell_type": "code",
   "execution_count": 29,
   "id": "9bcb1de2-cd0a-45c7-a7e0-19d8594e93d5",
   "metadata": {},
   "outputs": [
    {
     "data": {
      "text/plain": [
       "False"
      ]
     },
     "execution_count": 29,
     "metadata": {},
     "output_type": "execute_result"
    }
   ],
   "source": [
    "#Not equal check False\n",
    "my_favorite_number != 10"
   ]
  },
  {
   "cell_type": "code",
   "execution_count": 30,
   "id": "ba3608c5-a334-4452-b0de-79bc691e53ed",
   "metadata": {},
   "outputs": [
    {
     "data": {
      "text/plain": [
       "True"
      ]
     },
     "execution_count": 30,
     "metadata": {},
     "output_type": "execute_result"
    }
   ],
   "source": [
    "#Greater than check\n",
    "my_favorite_number > a_neutral_number"
   ]
  },
  {
   "cell_type": "code",
   "execution_count": 31,
   "id": "6edeeae7-8569-4168-a363-549f99d2ba85",
   "metadata": {},
   "outputs": [
    {
     "data": {
      "text/plain": [
       "True"
      ]
     },
     "execution_count": 31,
     "metadata": {},
     "output_type": "execute_result"
    }
   ],
   "source": [
    "#Greater than or equal check\n",
    "my_favorite_number >= a_neutral_number"
   ]
  },
  {
   "cell_type": "code",
   "execution_count": 32,
   "id": "599b3384-595e-49ef-896f-57d7154e43d4",
   "metadata": {},
   "outputs": [
    {
     "data": {
      "text/plain": [
       "False"
      ]
     },
     "execution_count": 32,
     "metadata": {},
     "output_type": "execute_result"
    }
   ],
   "source": [
    "#Less than check\n",
    "my_favorite_number < a_neutral_number"
   ]
  },
  {
   "cell_type": "code",
   "execution_count": 33,
   "id": "70d4fb97-31e3-4f6d-b8aa-fad7d191420b",
   "metadata": {},
   "outputs": [
    {
     "data": {
      "text/plain": [
       "False"
      ]
     },
     "execution_count": 33,
     "metadata": {},
     "output_type": "execute_result"
    }
   ],
   "source": [
    "#Less than or equal to check\n",
    "my_favorite_number <= a_neutral_number"
   ]
  },
  {
   "cell_type": "code",
   "execution_count": 35,
   "id": "9248c115-a5c1-4f7f-a63f-f40d92b77982",
   "metadata": {},
   "outputs": [
    {
     "name": "stdout",
     "output_type": "stream",
     "text": [
      "is the ice bag expensive? False\n"
     ]
    }
   ],
   "source": [
    "cost_of_ice_bag = 1.25\n",
    "is_ice_bag_expensive = cost_of_ice_bag >= 10\n",
    "print(\"is the ice bag expensive?\", is_ice_bag_expensive)"
   ]
  },
  {
   "cell_type": "code",
   "execution_count": 41,
   "id": "02411a49-c680-42ef-8024-d943772a53c0",
   "metadata": {},
   "outputs": [
    {
     "data": {
      "text/plain": [
       "True"
      ]
     },
     "execution_count": 41,
     "metadata": {},
     "output_type": "execute_result"
    }
   ],
   "source": [
    "#Not operator returns False when condition is True and True when condition is False\n",
    "not a_neutral_number == 10"
   ]
  },
  {
   "cell_type": "code",
   "execution_count": 42,
   "id": "9d8b23b0-0bf6-4b0e-a2dc-95e6632c381d",
   "metadata": {},
   "outputs": [
    {
     "data": {
      "text/plain": [
       "False"
      ]
     },
     "execution_count": 42,
     "metadata": {},
     "output_type": "execute_result"
    }
   ],
   "source": [
    "not a_neutral_number == 3"
   ]
  },
  {
   "cell_type": "code",
   "execution_count": null,
   "id": "70b34858-a56f-4f54-9c52-1439ed0e1cec",
   "metadata": {},
   "outputs": [],
   "source": []
  }
 ],
 "metadata": {
  "kernelspec": {
   "display_name": "Python 3 (ipykernel)",
   "language": "python",
   "name": "python3"
  },
  "language_info": {
   "codemirror_mode": {
    "name": "ipython",
    "version": 3
   },
   "file_extension": ".py",
   "mimetype": "text/x-python",
   "name": "python",
   "nbconvert_exporter": "python",
   "pygments_lexer": "ipython3",
   "version": "3.9.12"
  }
 },
 "nbformat": 4,
 "nbformat_minor": 5
}
